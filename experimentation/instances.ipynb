{
 "cells": [
  {
   "cell_type": "code",
   "execution_count": 1,
   "metadata": {},
   "outputs": [],
   "source": [
    "import pandas as pd"
   ]
  },
  {
   "cell_type": "code",
   "execution_count": 5,
   "metadata": {},
   "outputs": [
    {
     "data": {
      "text/html": [
       "<div>\n",
       "<style scoped>\n",
       "    .dataframe tbody tr th:only-of-type {\n",
       "        vertical-align: middle;\n",
       "    }\n",
       "\n",
       "    .dataframe tbody tr th {\n",
       "        vertical-align: top;\n",
       "    }\n",
       "\n",
       "    .dataframe thead th {\n",
       "        text-align: right;\n",
       "    }\n",
       "</style>\n",
       "<table border=\"1\" class=\"dataframe\">\n",
       "  <thead>\n",
       "    <tr style=\"text-align: right;\">\n",
       "      <th></th>\n",
       "      <th>instance</th>\n",
       "      <th>instance_nodes</th>\n",
       "      <th>instance_edges</th>\n",
       "      <th>topology</th>\n",
       "      <th>slots</th>\n",
       "      <th>max_sd</th>\n",
       "      <th>terminals</th>\n",
       "      <th>spread</th>\n",
       "      <th>group</th>\n",
       "    </tr>\n",
       "  </thead>\n",
       "  <tbody>\n",
       "    <tr>\n",
       "      <th>0</th>\n",
       "      <td>21n-70m-SpanishTelefonica_30_3_66_0.2</td>\n",
       "      <td>21</td>\n",
       "      <td>70</td>\n",
       "      <td>SpanishTelefonica</td>\n",
       "      <td>30</td>\n",
       "      <td>3</td>\n",
       "      <td>66</td>\n",
       "      <td>0.2</td>\n",
       "      <td>0</td>\n",
       "    </tr>\n",
       "    <tr>\n",
       "      <th>1</th>\n",
       "      <td>21n-70m-SpanishTelefonica_30_3_66_0.5</td>\n",
       "      <td>21</td>\n",
       "      <td>70</td>\n",
       "      <td>SpanishTelefonica</td>\n",
       "      <td>30</td>\n",
       "      <td>3</td>\n",
       "      <td>66</td>\n",
       "      <td>0.5</td>\n",
       "      <td>0</td>\n",
       "    </tr>\n",
       "    <tr>\n",
       "      <th>2</th>\n",
       "      <td>21n-70m-SpanishTelefonica_30_3_66_1.0</td>\n",
       "      <td>21</td>\n",
       "      <td>70</td>\n",
       "      <td>SpanishTelefonica</td>\n",
       "      <td>30</td>\n",
       "      <td>3</td>\n",
       "      <td>66</td>\n",
       "      <td>1.0</td>\n",
       "      <td>0</td>\n",
       "    </tr>\n",
       "    <tr>\n",
       "      <th>3</th>\n",
       "      <td>21n-70m-SpanishTelefonica_10_1_66_0.2</td>\n",
       "      <td>21</td>\n",
       "      <td>70</td>\n",
       "      <td>SpanishTelefonica</td>\n",
       "      <td>10</td>\n",
       "      <td>1</td>\n",
       "      <td>66</td>\n",
       "      <td>0.2</td>\n",
       "      <td>0</td>\n",
       "    </tr>\n",
       "    <tr>\n",
       "      <th>4</th>\n",
       "      <td>21n-70m-SpanishTelefonica_10_1_66_0.5</td>\n",
       "      <td>21</td>\n",
       "      <td>70</td>\n",
       "      <td>SpanishTelefonica</td>\n",
       "      <td>10</td>\n",
       "      <td>1</td>\n",
       "      <td>66</td>\n",
       "      <td>0.5</td>\n",
       "      <td>0</td>\n",
       "    </tr>\n",
       "  </tbody>\n",
       "</table>\n",
       "</div>"
      ],
      "text/plain": [
       "                                instance  instance_nodes  instance_edges  \\\n",
       "0  21n-70m-SpanishTelefonica_30_3_66_0.2              21              70   \n",
       "1  21n-70m-SpanishTelefonica_30_3_66_0.5              21              70   \n",
       "2  21n-70m-SpanishTelefonica_30_3_66_1.0              21              70   \n",
       "3  21n-70m-SpanishTelefonica_10_1_66_0.2              21              70   \n",
       "4  21n-70m-SpanishTelefonica_10_1_66_0.5              21              70   \n",
       "\n",
       "            topology  slots  max_sd  terminals  spread  group  \n",
       "0  SpanishTelefonica     30       3         66     0.2      0  \n",
       "1  SpanishTelefonica     30       3         66     0.5      0  \n",
       "2  SpanishTelefonica     30       3         66     1.0      0  \n",
       "3  SpanishTelefonica     10       1         66     0.2      0  \n",
       "4  SpanishTelefonica     10       1         66     0.5      0  "
      ]
     },
     "execution_count": 5,
     "metadata": {},
     "output_type": "execute_result"
    }
   ],
   "source": [
    "df = pd.read_csv(\"instances.csv\")\n",
    "df.head()"
   ]
  },
  {
   "cell_type": "code",
   "execution_count": 6,
   "metadata": {},
   "outputs": [
    {
     "data": {
      "text/plain": [
       "group\n",
       "0    459\n",
       "1     54\n",
       "Name: count, dtype: int64"
      ]
     },
     "execution_count": 6,
     "metadata": {},
     "output_type": "execute_result"
    }
   ],
   "source": [
    "df[\"group\"].value_counts()"
   ]
  }
 ],
 "metadata": {
  "kernelspec": {
   "display_name": "cplex",
   "language": "python",
   "name": "python3"
  },
  "language_info": {
   "codemirror_mode": {
    "name": "ipython",
    "version": 3
   },
   "file_extension": ".py",
   "mimetype": "text/x-python",
   "name": "python",
   "nbconvert_exporter": "python",
   "pygments_lexer": "ipython3",
   "version": "3.10.13"
  }
 },
 "nbformat": 4,
 "nbformat_minor": 2
}
